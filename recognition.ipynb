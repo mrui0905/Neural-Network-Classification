{
 "cells": [
  {
   "cell_type": "code",
   "execution_count": 1,
   "id": "f820e8ff",
   "metadata": {},
   "outputs": [],
   "source": [
    "import numpy as np\n",
    "import pandas as pd\n",
    "\n",
    "TEST_SIZE = 1000\n",
    "MAX_VALUE = 255 # should be for pixels (grayscale values range from 0-255 and 87 for musical notes (notes range from 0-87))\n",
    "COL = 784\n",
    "RESULT_SIZE = 10\n",
    "\n",
    "df = pd.read_csv('number_data.csv') # can be any of the 4 datasets"
   ]
  },
  {
   "cell_type": "code",
   "execution_count": 2,
   "id": "92b1653e",
   "metadata": {},
   "outputs": [],
   "source": [
    "data = np.array(df)\n",
    "np.random.shuffle(data) # randomize order of data\n",
    "r, c = data.shape\n",
    "\n",
    "data_dev = data[:TEST_SIZE].T\n",
    "Y_dev = data_dev[0]\n",
    "X_dev = data_dev[1:]\n",
    "X_dev = X_dev / MAX_VALUE\n",
    "\n",
    "data_train = data[TEST_SIZE:].T\n",
    "Y_train = data_train[0]\n",
    "X_train = data_train[1:]\n",
    "X_train = X_train / MAX_VALUE\n",
    "_,m_train = X_train.shape"
   ]
  },
  {
   "cell_type": "code",
   "execution_count": 3,
   "id": "ed929255",
   "metadata": {},
   "outputs": [],
   "source": [
    "def init_params():\n",
    "    w1 = np.random.rand(RESULT_SIZE, COL) - 0.5\n",
    "    c1 = np.random.rand(RESULT_SIZE, 1) - 0.5\n",
    "    w2 = np.random.rand(RESULT_SIZE, RESULT_SIZE) - 0.5\n",
    "    c2 = np.random.rand(RESULT_SIZE, 1) - 0.5\n",
    "    return w1, c1, w2, c2\n",
    "\n",
    "def ReLU(n): # 1st activation function (x if x>0, 0 else)\n",
    "    return np.maximum(n, 0)\n",
    "\n",
    "def softmax(n): # 2nd activation function\n",
    "    return np.exp(n) / sum(np.exp(n))\n",
    "    \n",
    "def for_prop(w1, c1, w2, c2, X): #forward propagation\n",
    "    L1 = w1.dot(X) + c1\n",
    "    R1 = ReLU(L1)\n",
    "    L2 = w2.dot(R1) + c2\n",
    "    R2 = softmax(L2)\n",
    "    return L1, R1, L2, R2\n",
    "\n",
    "def ReLU_deriv(n):\n",
    "    return n > 0\n",
    "\n",
    "def res(Y):\n",
    "    res_Y = np.zeros((Y.size, Y.max() + 1))\n",
    "    res_Y[np.arange(Y.size), Y] = 1\n",
    "    res_Y = res_Y.T\n",
    "    return res_Y\n",
    "\n",
    "def back_prop(L1, R1, R2, w2, X, Y):\n",
    "    res_Y = res(Y)\n",
    "    dL2 = R2 - res_Y\n",
    "    dw2 = 1 / r * dL2.dot(R1.T)\n",
    "    dc2 = 1 / r * np.sum(dL2)\n",
    "    dL1 = w2.T.dot(dL2) * ReLU_deriv(L1)\n",
    "    dw1 = 1 / r * dL1.dot(X.T)\n",
    "    dc1 = 1 / r * np.sum(dL1)\n",
    "    return dw1, dc1, dw2, dc2\n",
    "\n",
    "def update(w1, c1, w2, c2, dw1, dc1, dw2, dc2, speed):\n",
    "    w1 = w1 - speed * dw1\n",
    "    c1 = c1 - speed * dc1    \n",
    "    w2 = w2 - speed * dw2  \n",
    "    c2 = c2 - speed * dc2    \n",
    "    return w1, c1, w2, c2"
   ]
  },
  {
   "cell_type": "code",
   "execution_count": 6,
   "id": "9ccd7a60",
   "metadata": {},
   "outputs": [],
   "source": [
    "def predict(R2):\n",
    "    return np.argmax(R2, 0)\n",
    "\n",
    "def check(predictions, Y):\n",
    "    print(predictions, Y)\n",
    "    return np.sum(predictions == Y) / Y.size\n",
    "\n",
    "def gradient_descent(X, Y, speed, iterations):\n",
    "    w1, c1, w2, c2 = init_params()\n",
    "    for i in range(iterations):\n",
    "        L1, R1, L2, R2 = for_prop(w1, c1, w2, c2, X)\n",
    "        dw1, dc1, dw2, dc2 = back_prop(L1, R1, R2, w2, X, Y)\n",
    "        w1, c1, w2, c2 = update(w1, c1, w2, c2, dw1, dc1, dw2, dc2, speed)\n",
    "        if i % 500 == 0:\n",
    "            print(\"Iteration: \", i)\n",
    "            predictions = predict(R2)\n",
    "            print(check(predictions, Y))\n",
    "    return w1, c1, w2, c2\n",
    "\n",
    "def make_predictions(X, w1, c1, w2, c2):\n",
    "    _, _, _, A2 = for_prop(w1, c1, w2, c2, X)\n",
    "    predictions = predict(A2)\n",
    "    return predictions\n",
    "\n",
    "def test_prediction(index, w1, c1, w2, c2):\n",
    "    prediction = make_predictions(X_train[:, index, None], w1, c1, w2, c2)\n",
    "    label = Y_train[index]\n",
    "    print(\"Prediction: \", prediction)\n",
    "    print(\"Label: \", label)"
   ]
  },
  {
   "cell_type": "code",
   "execution_count": 7,
   "id": "fa18733c",
   "metadata": {},
   "outputs": [
    {
     "name": "stdout",
     "output_type": "stream",
     "text": [
      "Iteration:  0\n",
      "[5 3 0 ... 4 4 4] [4 7 1 ... 5 4 2]\n",
      "0.11504878048780488\n",
      "Iteration:  500\n",
      "[4 7 1 ... 4 4 2] [4 7 1 ... 5 4 2]\n",
      "0.8778292682926829\n",
      "Iteration:  1000\n",
      "[4 7 1 ... 4 4 2] [4 7 1 ... 5 4 2]\n",
      "0.8991707317073171\n",
      "Iteration:  1500\n",
      "[4 7 1 ... 5 4 2] [4 7 1 ... 5 4 2]\n",
      "0.9083170731707317\n"
     ]
    }
   ],
   "source": [
    "w1, c1, w2, c2 = gradient_descent(X_train, Y_train, 0.2, 2000)"
   ]
  },
  {
   "cell_type": "code",
   "execution_count": 8,
   "id": "90af5d78",
   "metadata": {},
   "outputs": [
    {
     "name": "stdout",
     "output_type": "stream",
     "text": [
      "[9 2 3 1 4 8 3 2 3 6 2 2 8 2 9 8 3 7 0 3 9 8 4 9 4 9 6 3 2 2 4 5 9 2 4 8 9\n",
      " 8 3 2 9 5 9 0 4 5 2 3 4 6 2 1 6 8 5 4 5 6 2 0 0 3 9 6 7 9 9 5 6 7 3 9 1 0\n",
      " 9 6 8 9 8 5 5 7 5 1 6 5 6 5 7 4 3 0 0 0 2 6 6 9 2 9 3 5 7 3 4 3 0 8 4 1 7\n",
      " 3 5 9 1 6 5 7 5 5 9 3 7 9 8 6 8 2 8 9 4 4 3 0 7 6 8 5 3 0 5 8 6 2 3 6 3 4\n",
      " 0 1 7 9 2 3 0 4 6 0 1 6 4 4 1 5 1 1 8 7 3 9 9 3 5 7 8 5 8 2 9 9 1 9 8 2 8\n",
      " 1 0 7 0 7 9 8 3 1 4 0 2 4 1 0 3 4 9 8 5 9 9 6 8 4 6 1 4 3 7 1 4 1 6 3 2 0\n",
      " 8 4 0 3 0 9 6 0 3 8 5 7 8 1 1 4 8 4 5 9 6 2 1 0 5 0 0 0 9 3 6 3 5 0 1 7 8\n",
      " 1 4 7 1 9 7 4 8 0 8 2 8 8 6 1 2 9 2 0 7 1 3 8 1 0 4 1 1 7 7 6 6 3 8 9 4 1\n",
      " 8 6 2 0 9 1 7 1 8 3 4 7 2 3 1 6 3 3 1 6 0 8 4 8 6 9 9 3 7 1 7 1 8 1 9 2 7\n",
      " 7 0 6 5 0 5 8 9 2 7 5 2 3 7 4 4 0 3 9 7 9 7 9 5 4 6 0 5 8 4 6 9 9 5 4 3 9\n",
      " 9 3 5 5 2 4 5 0 9 4 5 9 8 3 5 6 2 7 2 8 1 0 7 0 8 6 2 0 6 2 9 5 0 7 0 2 0\n",
      " 0 3 6 7 2 4 4 0 8 2 4 3 0 8 9 1 9 1 8 8 4 0 1 9 4 2 6 4 4 4 8 4 5 0 4 4 9\n",
      " 8 4 2 5 4 4 6 9 4 5 8 9 2 9 9 1 6 3 5 9 4 8 9 0 7 1 9 1 9 8 7 1 7 9 7 7 9\n",
      " 3 7 1 7 2 3 6 9 5 0 6 7 9 4 1 6 4 9 2 6 6 0 2 8 3 4 4 0 6 1 5 4 1 7 6 8 6\n",
      " 4 7 6 2 9 7 4 1 0 2 0 1 0 0 5 3 8 8 2 3 6 3 6 4 1 2 7 0 2 8 3 1 7 1 5 7 6\n",
      " 6 7 5 1 2 7 2 9 7 3 0 7 0 4 2 1 4 1 9 7 9 8 1 6 1 4 8 8 9 0 3 2 7 4 9 8 3\n",
      " 3 6 0 2 7 4 5 9 1 3 9 7 1 1 4 9 6 0 7 5 3 7 0 0 7 5 0 0 4 3 6 0 1 0 6 0 1\n",
      " 9 3 4 2 4 4 1 5 8 5 1 7 0 3 5 3 1 3 5 6 4 6 0 0 9 7 8 6 4 6 7 8 3 5 1 3 0\n",
      " 3 7 1 1 5 0 4 9 1 4 0 6 2 2 0 5 2 5 6 2 7 4 7 5 7 1 6 0 2 7 8 1 2 0 3 1 6\n",
      " 6 5 3 6 5 9 7 9 1 5 0 8 5 7 4 6 0 6 2 3 9 0 7 5 2 4 5 1 2 1 2 8 6 7 1 5 1\n",
      " 9 9 7 7 5 9 3 2 3 9 0 8 6 0 1 5 0 3 0 6 1 6 0 2 7 3 5 0 4 9 1 5 7 8 8 1 3\n",
      " 5 1 1 6 6 7 6 7 2 2 7 4 1 8 9 0 9 2 8 2 4 1 7 0 6 6 1 8 2 0 7 9 9 2 6 4 5\n",
      " 0 3 1 4 9 2 8 3 2 1 3 9 0 1 5 0 5 4 2 8 2 4 4 7 7 8 0 8 4 9 5 1 9 8 2 7 5\n",
      " 5 8 2 0 1 1 1 6 3 2 6 2 5 3 6 3 5 0 3 5 3 9 4 5 6 0 2 6 5 4 8 4 6 5 8 1 2\n",
      " 9 3 7 3 3 8 2 7 8 1 6 0 4 5 9 9 7 5 3 9 0 8 9 1 1 1 6 2 0 8 1 1 3 0 6 3 4\n",
      " 3 8 2 8 5 2 1 8 9 3 9 7 2 3 0 7 5 9 7 8 7 6 3 2 7 2 1 8 8 0 4 5 8 0 1 8 5\n",
      " 4 8 6 4 7 1 3 4 0 2 4 3 6 3 1 8 9 3 2 9 7 4 1 4 9 1 6 5 2 6 2 1 4 4 9 8 0\n",
      " 4] [9 2 3 1 4 8 0 2 3 4 2 2 8 2 9 3 3 7 0 3 9 8 4 9 6 9 6 3 2 2 4 8 9 2 4 8 9\n",
      " 8 3 2 9 5 9 0 4 3 2 3 4 5 2 1 6 8 5 4 5 6 2 0 0 5 9 6 7 9 9 5 6 7 3 9 1 0\n",
      " 9 6 8 9 8 5 5 7 5 7 6 5 6 5 7 4 3 0 0 0 2 6 6 9 2 9 3 5 7 3 9 3 0 8 4 1 9\n",
      " 3 5 9 7 6 9 7 5 6 9 2 7 9 8 6 8 2 2 9 4 4 3 0 7 6 8 8 3 0 5 8 6 2 3 6 3 4\n",
      " 0 1 7 9 2 3 0 4 6 0 1 4 4 4 1 5 1 1 8 7 5 9 9 3 0 7 8 5 2 2 9 9 1 9 8 2 8\n",
      " 1 0 7 0 7 5 9 3 1 4 0 2 4 1 0 2 4 5 8 5 2 9 6 8 4 6 1 4 3 7 1 4 4 6 2 2 0\n",
      " 8 4 0 3 0 9 6 0 3 9 5 7 8 9 1 4 8 4 8 9 6 2 1 0 5 0 0 0 2 3 2 3 5 0 1 7 8\n",
      " 1 4 7 1 9 7 4 5 0 8 2 8 8 6 1 2 9 2 0 7 1 3 8 1 0 4 1 1 7 7 6 2 3 8 9 4 1\n",
      " 8 6 2 0 9 1 7 1 5 3 4 7 2 3 1 5 3 3 1 6 0 8 4 8 6 9 9 3 7 1 7 1 8 1 9 2 7\n",
      " 7 0 6 3 8 5 3 9 2 7 5 2 5 7 4 4 0 3 9 7 9 7 9 5 4 6 0 5 8 4 6 9 9 5 4 3 9\n",
      " 9 3 5 5 2 4 5 0 9 4 5 9 6 3 5 6 2 7 2 8 1 2 7 0 8 6 2 0 6 2 9 5 0 7 0 2 0\n",
      " 0 3 6 7 2 4 9 0 8 6 4 3 0 8 4 1 9 1 8 8 4 0 1 9 4 6 8 4 4 4 8 9 5 0 4 4 9\n",
      " 8 4 2 5 4 4 6 9 9 5 8 9 2 7 9 1 0 3 5 9 4 8 9 0 7 8 4 1 9 1 7 1 7 9 7 7 5\n",
      " 3 7 1 7 2 3 6 9 5 0 6 7 9 4 1 6 5 9 2 6 6 0 2 8 3 4 4 0 6 1 5 4 1 7 6 8 6\n",
      " 4 7 6 2 9 7 4 1 0 2 0 1 0 0 5 3 8 8 2 3 6 3 6 4 1 2 7 0 2 8 9 1 7 8 5 7 6\n",
      " 6 7 5 1 2 7 2 4 7 5 0 7 0 4 2 1 4 1 4 7 9 8 1 6 1 4 8 9 9 0 3 2 2 4 9 8 3\n",
      " 3 6 0 2 7 4 5 9 1 3 9 7 1 8 9 9 6 0 7 5 3 7 0 0 7 5 6 0 2 3 6 0 1 0 6 0 1\n",
      " 9 3 4 2 4 4 1 6 6 5 1 7 0 3 5 3 1 3 5 6 4 6 0 0 9 7 8 6 4 6 7 0 3 6 3 3 0\n",
      " 3 7 1 1 5 0 4 9 1 4 0 5 2 2 0 5 2 3 6 2 7 4 7 5 7 1 6 0 2 7 5 1 2 0 3 1 6\n",
      " 4 5 3 6 5 9 7 9 1 5 0 7 5 7 4 6 0 6 2 3 9 0 7 5 2 4 5 1 2 1 2 8 6 7 1 5 1\n",
      " 9 9 7 7 5 9 3 2 3 9 0 8 6 0 1 8 0 3 0 6 1 5 0 2 7 3 5 0 4 9 1 5 7 8 8 1 3\n",
      " 0 8 1 6 6 7 6 5 2 2 7 4 1 8 9 0 9 5 5 2 4 1 7 0 6 6 8 2 2 0 7 9 4 2 6 4 5\n",
      " 0 3 1 4 9 2 8 3 2 1 3 9 0 1 5 0 5 9 2 8 2 4 4 7 7 8 0 8 4 9 5 1 9 2 3 7 5\n",
      " 5 8 2 0 1 1 1 6 3 2 6 2 5 3 6 3 5 0 3 5 3 9 4 5 6 0 2 6 5 4 8 4 6 5 5 1 2\n",
      " 9 9 7 3 3 2 2 7 8 1 4 0 4 6 4 9 7 5 3 9 0 8 9 1 1 1 6 2 0 8 1 1 3 0 6 3 4\n",
      " 3 8 8 8 5 2 1 3 9 3 9 7 3 3 0 7 5 9 7 8 7 6 2 2 7 2 1 5 8 0 4 5 8 0 1 8 5\n",
      " 4 8 6 4 7 1 3 4 0 2 4 3 6 3 1 8 9 3 3 9 7 4 1 4 9 1 6 5 2 6 2 5 4 4 9 8 0\n",
      " 4]\n"
     ]
    },
    {
     "data": {
      "text/plain": [
       "0.896"
      ]
     },
     "execution_count": 8,
     "metadata": {},
     "output_type": "execute_result"
    }
   ],
   "source": [
    "dev_predictions = make_predictions(X_dev, w1, c1, w2, c2)\n",
    "check(dev_predictions, Y_dev)"
   ]
  },
  {
   "cell_type": "code",
   "execution_count": null,
   "id": "9fca43c9",
   "metadata": {},
   "outputs": [],
   "source": []
  }
 ],
 "metadata": {
  "kernelspec": {
   "display_name": "Python 3 (ipykernel)",
   "language": "python",
   "name": "python3"
  },
  "language_info": {
   "codemirror_mode": {
    "name": "ipython",
    "version": 3
   },
   "file_extension": ".py",
   "mimetype": "text/x-python",
   "name": "python",
   "nbconvert_exporter": "python",
   "pygments_lexer": "ipython3",
   "version": "3.11.3"
  }
 },
 "nbformat": 4,
 "nbformat_minor": 5
}
