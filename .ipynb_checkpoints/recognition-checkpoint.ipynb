{
 "cells": [
  {
   "cell_type": "code",
   "execution_count": 1,
   "id": "f820e8ff",
   "metadata": {},
   "outputs": [
    {
     "ename": "FileNotFoundError",
     "evalue": "[Errno 2] No such file or directory: 'number_data.csv'",
     "output_type": "error",
     "traceback": [
      "\u001b[0;31m---------------------------------------------------------------------------\u001b[0m",
      "\u001b[0;31mFileNotFoundError\u001b[0m                         Traceback (most recent call last)",
      "Cell \u001b[0;32mIn[1], line 9\u001b[0m\n\u001b[1;32m      6\u001b[0m COL \u001b[38;5;241m=\u001b[39m \u001b[38;5;241m784\u001b[39m\n\u001b[1;32m      7\u001b[0m RESULT_SIZE \u001b[38;5;241m=\u001b[39m \u001b[38;5;241m10\u001b[39m\n\u001b[0;32m----> 9\u001b[0m df \u001b[38;5;241m=\u001b[39m \u001b[43mpd\u001b[49m\u001b[38;5;241;43m.\u001b[39;49m\u001b[43mread_csv\u001b[49m\u001b[43m(\u001b[49m\u001b[38;5;124;43m'\u001b[39;49m\u001b[38;5;124;43mnumber_data.csv\u001b[39;49m\u001b[38;5;124;43m'\u001b[39;49m\u001b[43m)\u001b[49m \u001b[38;5;66;03m# can be any of the 4 datasets\u001b[39;00m\n",
      "File \u001b[0;32m/Library/Frameworks/Python.framework/Versions/3.11/lib/python3.11/site-packages/pandas/io/parsers/readers.py:912\u001b[0m, in \u001b[0;36mread_csv\u001b[0;34m(filepath_or_buffer, sep, delimiter, header, names, index_col, usecols, dtype, engine, converters, true_values, false_values, skipinitialspace, skiprows, skipfooter, nrows, na_values, keep_default_na, na_filter, verbose, skip_blank_lines, parse_dates, infer_datetime_format, keep_date_col, date_parser, date_format, dayfirst, cache_dates, iterator, chunksize, compression, thousands, decimal, lineterminator, quotechar, quoting, doublequote, escapechar, comment, encoding, encoding_errors, dialect, on_bad_lines, delim_whitespace, low_memory, memory_map, float_precision, storage_options, dtype_backend)\u001b[0m\n\u001b[1;32m    899\u001b[0m kwds_defaults \u001b[38;5;241m=\u001b[39m _refine_defaults_read(\n\u001b[1;32m    900\u001b[0m     dialect,\n\u001b[1;32m    901\u001b[0m     delimiter,\n\u001b[0;32m   (...)\u001b[0m\n\u001b[1;32m    908\u001b[0m     dtype_backend\u001b[38;5;241m=\u001b[39mdtype_backend,\n\u001b[1;32m    909\u001b[0m )\n\u001b[1;32m    910\u001b[0m kwds\u001b[38;5;241m.\u001b[39mupdate(kwds_defaults)\n\u001b[0;32m--> 912\u001b[0m \u001b[38;5;28;01mreturn\u001b[39;00m \u001b[43m_read\u001b[49m\u001b[43m(\u001b[49m\u001b[43mfilepath_or_buffer\u001b[49m\u001b[43m,\u001b[49m\u001b[43m \u001b[49m\u001b[43mkwds\u001b[49m\u001b[43m)\u001b[49m\n",
      "File \u001b[0;32m/Library/Frameworks/Python.framework/Versions/3.11/lib/python3.11/site-packages/pandas/io/parsers/readers.py:577\u001b[0m, in \u001b[0;36m_read\u001b[0;34m(filepath_or_buffer, kwds)\u001b[0m\n\u001b[1;32m    574\u001b[0m _validate_names(kwds\u001b[38;5;241m.\u001b[39mget(\u001b[38;5;124m\"\u001b[39m\u001b[38;5;124mnames\u001b[39m\u001b[38;5;124m\"\u001b[39m, \u001b[38;5;28;01mNone\u001b[39;00m))\n\u001b[1;32m    576\u001b[0m \u001b[38;5;66;03m# Create the parser.\u001b[39;00m\n\u001b[0;32m--> 577\u001b[0m parser \u001b[38;5;241m=\u001b[39m \u001b[43mTextFileReader\u001b[49m\u001b[43m(\u001b[49m\u001b[43mfilepath_or_buffer\u001b[49m\u001b[43m,\u001b[49m\u001b[43m \u001b[49m\u001b[38;5;241;43m*\u001b[39;49m\u001b[38;5;241;43m*\u001b[39;49m\u001b[43mkwds\u001b[49m\u001b[43m)\u001b[49m\n\u001b[1;32m    579\u001b[0m \u001b[38;5;28;01mif\u001b[39;00m chunksize \u001b[38;5;129;01mor\u001b[39;00m iterator:\n\u001b[1;32m    580\u001b[0m     \u001b[38;5;28;01mreturn\u001b[39;00m parser\n",
      "File \u001b[0;32m/Library/Frameworks/Python.framework/Versions/3.11/lib/python3.11/site-packages/pandas/io/parsers/readers.py:1407\u001b[0m, in \u001b[0;36mTextFileReader.__init__\u001b[0;34m(self, f, engine, **kwds)\u001b[0m\n\u001b[1;32m   1404\u001b[0m     \u001b[38;5;28mself\u001b[39m\u001b[38;5;241m.\u001b[39moptions[\u001b[38;5;124m\"\u001b[39m\u001b[38;5;124mhas_index_names\u001b[39m\u001b[38;5;124m\"\u001b[39m] \u001b[38;5;241m=\u001b[39m kwds[\u001b[38;5;124m\"\u001b[39m\u001b[38;5;124mhas_index_names\u001b[39m\u001b[38;5;124m\"\u001b[39m]\n\u001b[1;32m   1406\u001b[0m \u001b[38;5;28mself\u001b[39m\u001b[38;5;241m.\u001b[39mhandles: IOHandles \u001b[38;5;241m|\u001b[39m \u001b[38;5;28;01mNone\u001b[39;00m \u001b[38;5;241m=\u001b[39m \u001b[38;5;28;01mNone\u001b[39;00m\n\u001b[0;32m-> 1407\u001b[0m \u001b[38;5;28mself\u001b[39m\u001b[38;5;241m.\u001b[39m_engine \u001b[38;5;241m=\u001b[39m \u001b[38;5;28;43mself\u001b[39;49m\u001b[38;5;241;43m.\u001b[39;49m\u001b[43m_make_engine\u001b[49m\u001b[43m(\u001b[49m\u001b[43mf\u001b[49m\u001b[43m,\u001b[49m\u001b[43m \u001b[49m\u001b[38;5;28;43mself\u001b[39;49m\u001b[38;5;241;43m.\u001b[39;49m\u001b[43mengine\u001b[49m\u001b[43m)\u001b[49m\n",
      "File \u001b[0;32m/Library/Frameworks/Python.framework/Versions/3.11/lib/python3.11/site-packages/pandas/io/parsers/readers.py:1661\u001b[0m, in \u001b[0;36mTextFileReader._make_engine\u001b[0;34m(self, f, engine)\u001b[0m\n\u001b[1;32m   1659\u001b[0m     \u001b[38;5;28;01mif\u001b[39;00m \u001b[38;5;124m\"\u001b[39m\u001b[38;5;124mb\u001b[39m\u001b[38;5;124m\"\u001b[39m \u001b[38;5;129;01mnot\u001b[39;00m \u001b[38;5;129;01min\u001b[39;00m mode:\n\u001b[1;32m   1660\u001b[0m         mode \u001b[38;5;241m+\u001b[39m\u001b[38;5;241m=\u001b[39m \u001b[38;5;124m\"\u001b[39m\u001b[38;5;124mb\u001b[39m\u001b[38;5;124m\"\u001b[39m\n\u001b[0;32m-> 1661\u001b[0m \u001b[38;5;28mself\u001b[39m\u001b[38;5;241m.\u001b[39mhandles \u001b[38;5;241m=\u001b[39m \u001b[43mget_handle\u001b[49m\u001b[43m(\u001b[49m\n\u001b[1;32m   1662\u001b[0m \u001b[43m    \u001b[49m\u001b[43mf\u001b[49m\u001b[43m,\u001b[49m\n\u001b[1;32m   1663\u001b[0m \u001b[43m    \u001b[49m\u001b[43mmode\u001b[49m\u001b[43m,\u001b[49m\n\u001b[1;32m   1664\u001b[0m \u001b[43m    \u001b[49m\u001b[43mencoding\u001b[49m\u001b[38;5;241;43m=\u001b[39;49m\u001b[38;5;28;43mself\u001b[39;49m\u001b[38;5;241;43m.\u001b[39;49m\u001b[43moptions\u001b[49m\u001b[38;5;241;43m.\u001b[39;49m\u001b[43mget\u001b[49m\u001b[43m(\u001b[49m\u001b[38;5;124;43m\"\u001b[39;49m\u001b[38;5;124;43mencoding\u001b[39;49m\u001b[38;5;124;43m\"\u001b[39;49m\u001b[43m,\u001b[49m\u001b[43m \u001b[49m\u001b[38;5;28;43;01mNone\u001b[39;49;00m\u001b[43m)\u001b[49m\u001b[43m,\u001b[49m\n\u001b[1;32m   1665\u001b[0m \u001b[43m    \u001b[49m\u001b[43mcompression\u001b[49m\u001b[38;5;241;43m=\u001b[39;49m\u001b[38;5;28;43mself\u001b[39;49m\u001b[38;5;241;43m.\u001b[39;49m\u001b[43moptions\u001b[49m\u001b[38;5;241;43m.\u001b[39;49m\u001b[43mget\u001b[49m\u001b[43m(\u001b[49m\u001b[38;5;124;43m\"\u001b[39;49m\u001b[38;5;124;43mcompression\u001b[39;49m\u001b[38;5;124;43m\"\u001b[39;49m\u001b[43m,\u001b[49m\u001b[43m \u001b[49m\u001b[38;5;28;43;01mNone\u001b[39;49;00m\u001b[43m)\u001b[49m\u001b[43m,\u001b[49m\n\u001b[1;32m   1666\u001b[0m \u001b[43m    \u001b[49m\u001b[43mmemory_map\u001b[49m\u001b[38;5;241;43m=\u001b[39;49m\u001b[38;5;28;43mself\u001b[39;49m\u001b[38;5;241;43m.\u001b[39;49m\u001b[43moptions\u001b[49m\u001b[38;5;241;43m.\u001b[39;49m\u001b[43mget\u001b[49m\u001b[43m(\u001b[49m\u001b[38;5;124;43m\"\u001b[39;49m\u001b[38;5;124;43mmemory_map\u001b[39;49m\u001b[38;5;124;43m\"\u001b[39;49m\u001b[43m,\u001b[49m\u001b[43m \u001b[49m\u001b[38;5;28;43;01mFalse\u001b[39;49;00m\u001b[43m)\u001b[49m\u001b[43m,\u001b[49m\n\u001b[1;32m   1667\u001b[0m \u001b[43m    \u001b[49m\u001b[43mis_text\u001b[49m\u001b[38;5;241;43m=\u001b[39;49m\u001b[43mis_text\u001b[49m\u001b[43m,\u001b[49m\n\u001b[1;32m   1668\u001b[0m \u001b[43m    \u001b[49m\u001b[43merrors\u001b[49m\u001b[38;5;241;43m=\u001b[39;49m\u001b[38;5;28;43mself\u001b[39;49m\u001b[38;5;241;43m.\u001b[39;49m\u001b[43moptions\u001b[49m\u001b[38;5;241;43m.\u001b[39;49m\u001b[43mget\u001b[49m\u001b[43m(\u001b[49m\u001b[38;5;124;43m\"\u001b[39;49m\u001b[38;5;124;43mencoding_errors\u001b[39;49m\u001b[38;5;124;43m\"\u001b[39;49m\u001b[43m,\u001b[49m\u001b[43m \u001b[49m\u001b[38;5;124;43m\"\u001b[39;49m\u001b[38;5;124;43mstrict\u001b[39;49m\u001b[38;5;124;43m\"\u001b[39;49m\u001b[43m)\u001b[49m\u001b[43m,\u001b[49m\n\u001b[1;32m   1669\u001b[0m \u001b[43m    \u001b[49m\u001b[43mstorage_options\u001b[49m\u001b[38;5;241;43m=\u001b[39;49m\u001b[38;5;28;43mself\u001b[39;49m\u001b[38;5;241;43m.\u001b[39;49m\u001b[43moptions\u001b[49m\u001b[38;5;241;43m.\u001b[39;49m\u001b[43mget\u001b[49m\u001b[43m(\u001b[49m\u001b[38;5;124;43m\"\u001b[39;49m\u001b[38;5;124;43mstorage_options\u001b[39;49m\u001b[38;5;124;43m\"\u001b[39;49m\u001b[43m,\u001b[49m\u001b[43m \u001b[49m\u001b[38;5;28;43;01mNone\u001b[39;49;00m\u001b[43m)\u001b[49m\u001b[43m,\u001b[49m\n\u001b[1;32m   1670\u001b[0m \u001b[43m\u001b[49m\u001b[43m)\u001b[49m\n\u001b[1;32m   1671\u001b[0m \u001b[38;5;28;01massert\u001b[39;00m \u001b[38;5;28mself\u001b[39m\u001b[38;5;241m.\u001b[39mhandles \u001b[38;5;129;01mis\u001b[39;00m \u001b[38;5;129;01mnot\u001b[39;00m \u001b[38;5;28;01mNone\u001b[39;00m\n\u001b[1;32m   1672\u001b[0m f \u001b[38;5;241m=\u001b[39m \u001b[38;5;28mself\u001b[39m\u001b[38;5;241m.\u001b[39mhandles\u001b[38;5;241m.\u001b[39mhandle\n",
      "File \u001b[0;32m/Library/Frameworks/Python.framework/Versions/3.11/lib/python3.11/site-packages/pandas/io/common.py:859\u001b[0m, in \u001b[0;36mget_handle\u001b[0;34m(path_or_buf, mode, encoding, compression, memory_map, is_text, errors, storage_options)\u001b[0m\n\u001b[1;32m    854\u001b[0m \u001b[38;5;28;01melif\u001b[39;00m \u001b[38;5;28misinstance\u001b[39m(handle, \u001b[38;5;28mstr\u001b[39m):\n\u001b[1;32m    855\u001b[0m     \u001b[38;5;66;03m# Check whether the filename is to be opened in binary mode.\u001b[39;00m\n\u001b[1;32m    856\u001b[0m     \u001b[38;5;66;03m# Binary mode does not support 'encoding' and 'newline'.\u001b[39;00m\n\u001b[1;32m    857\u001b[0m     \u001b[38;5;28;01mif\u001b[39;00m ioargs\u001b[38;5;241m.\u001b[39mencoding \u001b[38;5;129;01mand\u001b[39;00m \u001b[38;5;124m\"\u001b[39m\u001b[38;5;124mb\u001b[39m\u001b[38;5;124m\"\u001b[39m \u001b[38;5;129;01mnot\u001b[39;00m \u001b[38;5;129;01min\u001b[39;00m ioargs\u001b[38;5;241m.\u001b[39mmode:\n\u001b[1;32m    858\u001b[0m         \u001b[38;5;66;03m# Encoding\u001b[39;00m\n\u001b[0;32m--> 859\u001b[0m         handle \u001b[38;5;241m=\u001b[39m \u001b[38;5;28;43mopen\u001b[39;49m\u001b[43m(\u001b[49m\n\u001b[1;32m    860\u001b[0m \u001b[43m            \u001b[49m\u001b[43mhandle\u001b[49m\u001b[43m,\u001b[49m\n\u001b[1;32m    861\u001b[0m \u001b[43m            \u001b[49m\u001b[43mioargs\u001b[49m\u001b[38;5;241;43m.\u001b[39;49m\u001b[43mmode\u001b[49m\u001b[43m,\u001b[49m\n\u001b[1;32m    862\u001b[0m \u001b[43m            \u001b[49m\u001b[43mencoding\u001b[49m\u001b[38;5;241;43m=\u001b[39;49m\u001b[43mioargs\u001b[49m\u001b[38;5;241;43m.\u001b[39;49m\u001b[43mencoding\u001b[49m\u001b[43m,\u001b[49m\n\u001b[1;32m    863\u001b[0m \u001b[43m            \u001b[49m\u001b[43merrors\u001b[49m\u001b[38;5;241;43m=\u001b[39;49m\u001b[43merrors\u001b[49m\u001b[43m,\u001b[49m\n\u001b[1;32m    864\u001b[0m \u001b[43m            \u001b[49m\u001b[43mnewline\u001b[49m\u001b[38;5;241;43m=\u001b[39;49m\u001b[38;5;124;43m\"\u001b[39;49m\u001b[38;5;124;43m\"\u001b[39;49m\u001b[43m,\u001b[49m\n\u001b[1;32m    865\u001b[0m \u001b[43m        \u001b[49m\u001b[43m)\u001b[49m\n\u001b[1;32m    866\u001b[0m     \u001b[38;5;28;01melse\u001b[39;00m:\n\u001b[1;32m    867\u001b[0m         \u001b[38;5;66;03m# Binary mode\u001b[39;00m\n\u001b[1;32m    868\u001b[0m         handle \u001b[38;5;241m=\u001b[39m \u001b[38;5;28mopen\u001b[39m(handle, ioargs\u001b[38;5;241m.\u001b[39mmode)\n",
      "\u001b[0;31mFileNotFoundError\u001b[0m: [Errno 2] No such file or directory: 'number_data.csv'"
     ]
    }
   ],
   "source": [
    "import numpy as np\n",
    "import pandas as pd\n",
    "\n",
    "TEST_SIZE = 1000\n",
    "MAX_VALUE = 255 # should be for pixels (grayscale values range from 0-255 and 87 for musical notes (notes range from 0-87))\n",
    "COL = 784\n",
    "RESULT_SIZE = 10\n",
    "\n",
    "df = pd.read_csv('number_data.csv') # can be any of the 4 datasets"
   ]
  },
  {
   "cell_type": "code",
   "execution_count": null,
   "id": "92b1653e",
   "metadata": {},
   "outputs": [],
   "source": [
    "data = np.array(df)\n",
    "np.random.shuffle(data) # randomize order of data\n",
    "r, c = data.shape\n",
    "\n",
    "data_dev = data[:TEST_SIZE].T\n",
    "Y_dev = data_dev[0]\n",
    "X_dev = data_dev[1:]\n",
    "X_dev = X_dev / MAX_VALUE\n",
    "\n",
    "data_train = data[TEST_SIZE:].T\n",
    "Y_train = data_train[0]\n",
    "X_train = data_train[1:]\n",
    "X_train = X_train / MAX_VALUE\n",
    "_,m_train = X_train.shape"
   ]
  },
  {
   "cell_type": "code",
   "execution_count": null,
   "id": "ed929255",
   "metadata": {},
   "outputs": [],
   "source": [
    "def init_params():\n",
    "    w1 = np.random.rand(RESULT_SIZE, COL) - 0.5\n",
    "    c1 = np.random.rand(RESULT_SIZE, 1) - 0.5\n",
    "    w2 = np.random.rand(RESULT_SIZE, RESULT_SIZE) - 0.5\n",
    "    c2 = np.random.rand(RESULT_SIZE, 1) - 0.5\n",
    "    return w1, c1, w2, c2\n",
    "\n",
    "def ReLU(n): # 1st activation function (x if x>0, 0 else)\n",
    "    return np.maximum(n, 0)\n",
    "\n",
    "def softmax(n): # 2nd activation function\n",
    "    return np.exp(n) / sum(np.exp(n))\n",
    "    \n",
    "def for_prop(w1, c1, w2, c2, X): #forward propagation\n",
    "    L1 = w1.dot(X) + c1\n",
    "    R1 = ReLU(L1)\n",
    "    L2 = w2.dot(R1) + c2\n",
    "    R2 = softmax(L2)\n",
    "    return L1, R1, L2, R2\n",
    "\n",
    "def ReLU_deriv(n):\n",
    "    return 1 if n > 0 else 0\n",
    "\n",
    "def res(Y):\n",
    "    res_Y = np.zeros((Y.size, Y.max() + 1))\n",
    "    res_Y[np.arange(Y.size), Y] = 1\n",
    "    res_Y = res_Y.T\n",
    "    return res_Y\n",
    "\n",
    "def back_prop(L1, R1, R2, w2, X, Y):\n",
    "    res_Y = res(Y)\n",
    "    dL2 = R2 - res_Y\n",
    "    dw2 = 1 / r * dL2.dot(R1.T)\n",
    "    dc2 = 1 / r * np.sum(dL2)\n",
    "    dL1 = w2.T.dot(dL2) * ReLU_deriv(L1)\n",
    "    dw1 = 1 / r * dL1.dot(X.T)\n",
    "    dc1 = 1 / r * np.sum(dL1)\n",
    "    return dw1, dc1, dw2, dc2\n",
    "\n",
    "def update(w1, c1, w2, c2, dw1, dc1, dw2, dc2, speed):\n",
    "    w1 = w1 - speed * dw1\n",
    "    c1 = c1 - speed * dc1    \n",
    "    w2 = w2 - speed * dw2  \n",
    "    c2 = c2 - speed * dc2    \n",
    "    return w1, c1, w2, c2"
   ]
  },
  {
   "cell_type": "code",
   "execution_count": null,
   "id": "9ccd7a60",
   "metadata": {},
   "outputs": [],
   "source": [
    "def predict(R2):\n",
    "    return np.argmax(R2, 0)\n",
    "\n",
    "def check(predictions, Y):\n",
    "    print(predictions, Y)\n",
    "    return np.sum(predictions == Y) / Y.size\n",
    "\n",
    "def gradient_descent(X, Y, speed, iterations):\n",
    "    w1, c1, w2, c2 = init_params()\n",
    "    for i in range(iterations):\n",
    "        L1, R1, L2, R2 = for_prop(w1, c1, w2, c2, X)\n",
    "        dw1, dc1, dw2, dc2 = back_prop(L1, R1, R2, w2, X, Y)\n",
    "        w1, c1, w2, c2 = update(w1, c1, w2, c2, dw1, dc1, dw2, dc2, speed)\n",
    "        if i % 500 == 0:\n",
    "            print(\"Iteration: \", i)\n",
    "            predictions = predict(A2)\n",
    "            print(check(predictions, Y))\n",
    "    return w1, c1, w2, c2\n",
    "\n",
    "def make_predictions(X, w1, c1, w2, c2):\n",
    "    _, _, _, A2 = for_prop(w1, c1, w2, c2, X)\n",
    "    predictions = predict(A2)\n",
    "    return predictions\n",
    "\n",
    "def test_prediction(index, w1, c1, w2, c2):\n",
    "    prediction = make_predictions(X_train[:, index, None], w1, c1, w2, c2)\n",
    "    label = Y_train[index]\n",
    "    print(\"Prediction: \", prediction)\n",
    "    print(\"Label: \", label)"
   ]
  },
  {
   "cell_type": "code",
   "execution_count": 2,
   "id": "fa18733c",
   "metadata": {},
   "outputs": [
    {
     "ename": "NameError",
     "evalue": "name 'gradient_descent' is not defined",
     "output_type": "error",
     "traceback": [
      "\u001b[0;31m---------------------------------------------------------------------------\u001b[0m",
      "\u001b[0;31mNameError\u001b[0m                                 Traceback (most recent call last)",
      "Cell \u001b[0;32mIn[2], line 1\u001b[0m\n\u001b[0;32m----> 1\u001b[0m w1, c1, w2, c2 \u001b[38;5;241m=\u001b[39m \u001b[43mgradient_descent\u001b[49m(X_train, Y_train, \u001b[38;5;241m0.2\u001b[39m, \u001b[38;5;241m2000\u001b[39m)\n",
      "\u001b[0;31mNameError\u001b[0m: name 'gradient_descent' is not defined"
     ]
    }
   ],
   "source": [
    "w1, c1, w2, c2 = gradient_descent(X_train, Y_train, 0.2, 2000)"
   ]
  },
  {
   "cell_type": "code",
   "execution_count": 9,
   "id": "90af5d78",
   "metadata": {},
   "outputs": [
    {
     "name": "stdout",
     "output_type": "stream",
     "text": [
      "[5 9 3 1 2 8 2 2 3 4 8 2 1 9 3 3 0 0 6 2 7 3 6 4 0 8 4 0 2 4 2 7 6 1 8 2 7\n",
      " 7 1 1 6 2 4 5 6 4 3 8 0 1 6 7 0 9 8 6 6 3 0 1 0 5 2 8 4 0 7 2 2 3 1 0 1 1\n",
      " 1 5 8 2 7 4 8 7 6 0 0 6 7 4 9 3 5 2 3 4 4 3 4 9 6 5 5 4 4 3 3 2 3 9 0 6 9\n",
      " 4 7 4 5 2 7 7 1 8 6 6 0 1 8 6 9 3 8 0 6 3 3 1 1 5 5 2 0 9 0 9 7 2 4 9 7 2\n",
      " 6 5 2 8 9 5 2 2 3 0 9 5 3 6 3 0 3 4 7 3 1 5 3 9 6 2 5 1 7 0 8 5 5 2 0 9 4\n",
      " 9 0 9 1 9 8 3 6 9 0 5 6 3 2 4 6 5 9 2 1 2 8 7 2 7 5 7 8 7 4 8 5 6 0 2 5 4\n",
      " 5 1 9 1 9 3 0 4 8 9 4 2 5 2 2 2 5 4 6 6 0 1 7 5 2 9 5 1 1 2 6 4 1 3 0 1 2\n",
      " 3 9 3 4 2 5 6 9 7 6 3 3 0 0 1 0 3 3 2 7 2 1 3 9 5 0 4 0 9 6 0 9 7 7 7 5 5\n",
      " 3 2 1 6 1 2 5 5 8 8 5 0 7 2 9 7 9 9 6 1 7 3 4 4 5 1 7 9 5 0 6 0 6 7 9 0 5\n",
      " 1 5 4 2 3 6 2 3 7 3 8 6 8 4 2 1 5 0 0 3 5 8 3 9 9 3 9 2 6 9 2 5 6 7 8 9 9\n",
      " 4 7 2 0 3 5 8 5 4 9 3 6 5 2 7 3 3 5 3 9 7 2 9 2 9 1 1 8 0 2 9 7 6 8 5 2 4\n",
      " 9 4 0 5 3 4 6 1 9 0 1 9 3 8 4 8 7 9 2 4 6 4 9 8 2 9 5 9 6 3 2 2 7 1 6 4 4\n",
      " 8 5 9 2 5 9 9 3 6 5 3 6 1 6 9 1 6 3 7 3 9 6 3 4 9 2 6 6 3 9 1 8 1 4 0 1 1\n",
      " 8 6 5 0 4 8 9 1 0 0 5 9 4 6 6 0 2 3 7 3 1 2 8 2 9 2 3 7 9 3 7 8 9 2 8 4 6\n",
      " 8 9 8 6 1 4 0 0 4 4 9 2 1 1 0 2 0 4 6 7 9 1 3 8 8 1 7 2 9 5 5 5 8 7 3 9 7\n",
      " 5 9 2 4 3 6 4 7 8 3 8 3 6 1 2 5 7 9 7 0 7 3 1 5 8 8 0 4 1 3 0 9 8 5 3 2 2\n",
      " 5 3 7 1 7 5 6 7 6 0 1 9 0 2 8 8 2 9 5 8 5 6 4 4 2 3 2 6 5 7 4 9 6 2 4 9 5\n",
      " 8 4 4 2 9 6 5 8 5 7 7 2 3 9 4 6 5 0 9 0 6 4 9 1 2 8 2 6 1 6 0 8 5 0 6 7 1\n",
      " 6 6 1 6 8 4 9 8 4 1 2 1 4 2 8 0 0 3 5 5 5 3 3 3 5 3 8 4 5 9 2 7 1 0 7 4 2\n",
      " 2 6 6 1 6 5 7 4 4 2 1 5 1 3 2 6 0 6 8 6 0 4 2 7 9 2 6 8 5 5 2 1 6 8 4 1 2\n",
      " 6 9 0 4 6 6 6 4 0 2 4 5 3 2 7 7 0 1 7 8 4 1 4 0 6 7 5 0 8 6 1 7 2 2 5 9 6\n",
      " 4 3 5 8 1 1 1 5 0 1 5 6 6 7 4 3 7 0 9 3 3 6 0 3 0 5 1 5 0 6 1 8 3 3 2 4 9\n",
      " 9 6 6 9 6 4 9 8 1 7 4 3 2 8 0 7 5 8 4 0 3 0 0 8 0 4 9 9 9 5 6 7 2 4 5 3 7\n",
      " 3 5 5 6 0 0 9 7 0 5 5 6 4 1 5 4 3 1 0 2 8 0 2 3 7 2 7 2 0 0 3 3 1 3 2 7 0\n",
      " 4 3 7 3 6 6 3 2 4 0 7 6 2 7 8 7 4 0 4 7 7 7 9 8 4 4 4 1 0 2 4 0 7 3 1 5 9\n",
      " 0 7 5 9 7 5 5 0 3 5 2 9 1 3 5 1 1 3 6 3 4 8 6 8 1 6 6 0 7 6 5 9 4 4 0 5 1\n",
      " 7 0 1 6 2 6 4 5 6 5 7 6 4 7 4 7 7 0 3 3 0 1 8 6 2 2 7 2 2 2 4 1 3 1 3 2 0\n",
      " 0] [5 9 3 1 2 8 2 2 3 4 8 2 1 9 3 3 0 0 6 2 7 8 6 4 6 8 2 0 2 4 2 7 6 1 8 2 7\n",
      " 7 1 1 6 2 4 5 6 4 3 8 0 1 6 7 0 9 8 6 6 3 0 1 0 5 2 8 4 0 7 7 2 3 1 0 1 1\n",
      " 1 5 8 2 7 4 8 7 6 0 0 6 7 4 9 3 5 7 2 4 4 3 4 9 6 5 5 4 4 3 3 2 3 9 0 6 9\n",
      " 4 7 4 5 6 7 7 1 8 5 6 0 1 8 6 9 3 8 0 6 6 3 9 1 4 5 2 0 9 0 7 7 2 4 9 7 8\n",
      " 6 5 2 8 4 5 2 2 3 0 9 5 3 6 3 0 3 4 7 3 1 5 3 9 6 2 5 1 7 0 8 5 5 2 0 9 4\n",
      " 9 0 9 1 9 8 8 6 9 0 5 6 3 2 4 2 5 9 2 1 2 8 7 2 7 5 7 8 7 4 0 5 6 0 2 5 4\n",
      " 5 1 9 5 9 3 0 4 8 9 4 2 5 4 2 2 5 4 6 6 0 1 7 5 2 9 5 1 1 2 6 4 1 3 0 1 2\n",
      " 3 9 3 4 2 5 6 4 7 6 3 3 0 0 1 0 3 3 2 7 2 1 3 9 5 0 4 0 9 6 0 0 7 7 7 5 5\n",
      " 3 2 1 6 1 2 5 5 7 8 5 0 7 2 9 7 9 9 6 1 7 3 4 4 5 1 7 9 5 0 6 0 6 7 9 6 5\n",
      " 1 5 4 2 3 6 2 3 7 3 8 6 8 4 2 1 5 0 0 3 5 8 3 9 9 3 4 2 6 9 2 5 6 7 8 9 9\n",
      " 0 0 2 0 3 3 2 5 4 9 3 6 5 2 7 3 3 5 3 9 7 2 9 2 9 1 1 8 0 2 9 7 6 8 8 2 4\n",
      " 9 4 0 5 3 4 6 1 9 0 1 9 3 8 4 8 7 9 2 4 6 4 9 8 2 9 5 9 6 3 2 2 2 1 6 4 4\n",
      " 8 5 9 2 5 9 9 3 6 5 3 6 1 6 9 1 6 3 7 3 9 6 2 4 9 2 6 6 3 9 1 0 1 4 0 1 1\n",
      " 8 6 8 5 4 8 9 1 0 0 3 9 4 6 6 0 2 3 7 3 1 2 2 2 9 2 3 7 9 3 9 8 9 2 8 4 6\n",
      " 8 9 8 6 1 4 0 0 4 4 9 2 1 1 0 2 0 4 6 7 9 1 3 8 8 1 7 2 9 5 5 5 8 7 3 9 7\n",
      " 5 9 2 4 3 6 4 2 8 3 8 3 6 1 2 5 7 9 7 0 7 3 1 5 8 8 0 4 1 3 0 9 8 5 3 2 1\n",
      " 5 3 7 1 7 8 6 7 6 0 1 9 0 2 8 8 2 9 5 8 5 6 4 4 2 3 2 6 5 7 2 9 6 8 4 9 5\n",
      " 8 9 4 2 9 6 5 8 5 7 7 2 3 9 4 6 5 0 9 0 6 4 9 1 2 8 2 6 1 6 0 8 5 0 6 7 1\n",
      " 6 6 1 6 8 4 4 8 4 1 7 1 4 2 8 0 0 3 5 5 5 3 3 3 5 3 2 4 5 9 2 7 1 0 7 4 2\n",
      " 2 6 6 1 6 5 7 4 4 2 1 5 1 3 2 6 0 6 8 6 0 4 7 9 9 2 6 8 5 5 2 1 6 8 4 1 2\n",
      " 6 9 0 9 6 6 6 4 0 2 9 5 3 2 7 7 0 1 7 8 4 1 4 0 6 7 5 0 8 6 1 7 2 2 5 9 6\n",
      " 4 3 5 8 1 1 1 5 0 1 5 6 6 7 4 3 7 0 9 3 3 6 0 3 0 5 1 9 0 6 1 8 3 3 2 4 9\n",
      " 9 6 2 9 6 4 9 8 1 7 4 3 2 8 0 7 5 8 4 0 3 0 0 8 8 4 9 9 9 9 6 7 2 4 5 3 7\n",
      " 8 5 5 6 0 0 9 7 0 5 5 6 4 1 5 4 3 1 9 2 8 0 2 3 7 2 7 2 0 0 3 3 1 3 2 7 0\n",
      " 4 3 7 5 6 6 3 2 4 0 7 6 2 7 8 7 4 0 4 7 7 7 9 2 4 4 4 1 0 2 4 0 7 3 1 5 9\n",
      " 0 9 5 9 7 5 5 0 3 5 2 9 1 3 5 1 1 3 6 3 4 3 6 8 1 6 6 0 7 6 5 9 4 4 0 5 5\n",
      " 7 0 1 6 2 6 4 5 6 5 7 6 4 7 4 7 7 0 3 3 0 1 8 5 2 2 7 2 2 2 4 1 3 1 5 2 0\n",
      " 0]\n"
     ]
    },
    {
     "data": {
      "text/plain": [
       "0.937"
      ]
     },
     "execution_count": 9,
     "metadata": {},
     "output_type": "execute_result"
    }
   ],
   "source": [
    "dev_predictions = make_predictions(X_dev, w1, c1, w2, c2)\n",
    "check(dev_predictions, Y_dev)"
   ]
  },
  {
   "cell_type": "code",
   "execution_count": null,
   "id": "9fca43c9",
   "metadata": {},
   "outputs": [],
   "source": []
  }
 ],
 "metadata": {
  "kernelspec": {
   "display_name": "Python 3 (ipykernel)",
   "language": "python",
   "name": "python3"
  },
  "language_info": {
   "codemirror_mode": {
    "name": "ipython",
    "version": 3
   },
   "file_extension": ".py",
   "mimetype": "text/x-python",
   "name": "python",
   "nbconvert_exporter": "python",
   "pygments_lexer": "ipython3",
   "version": "3.11.3"
  }
 },
 "nbformat": 4,
 "nbformat_minor": 5
}
